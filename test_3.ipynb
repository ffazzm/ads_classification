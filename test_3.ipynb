{
 "cells": [
  {
   "cell_type": "code",
   "execution_count": 1,
   "metadata": {},
   "outputs": [],
   "source": [
    "import torch\n",
    "\n",
    "from sklearn.metrics import f1_score, accuracy_score, confusion_matrix\n",
    "from sklearn.model_selection import train_test_split\n",
    "import numpy as np\n",
    "import os\n",
    "os.environ[\"CUDA_VISIBLE_DEVICES\"] = \"1\"  # or \"0,1\" for multiple GPUs\n",
    "os.environ[\"TOKENIZERS_PARALLELISM\"] = \"false\"\n",
    "\n",
    "import numpy as np\n",
    "import pandas as pd\n",
    "from tqdm import tqdm\n",
    "\n",
    "import re\n",
    "import string\n",
    "\n",
    "import nltk\n",
    "from nltk.corpus import stopwords\n",
    "from nltk.stem import WordNetLemmatizer  \n",
    "# nltk.download('stopwords')\n",
    "# nltk.download('wordnet')\n",
    "stop_words = stopwords.words('english')\n",
    "from sklearn.preprocessing import LabelEncoder\n",
    "\n",
    "sw = stopwords.words('english')\n",
    "lemmatizer = WordNetLemmatizer() \n",
    "\n",
    "def clean_text(text):\n",
    "    \n",
    "    text = text.lower()\n",
    "    \n",
    "    punctuations = '@#!?+&*[]-%.:/();$=><|{}^' + \"'`\" + '_'\n",
    "    for p in punctuations:\n",
    "        text = text.replace(p,' ') #Removing punctuations\n",
    "    \n",
    "    # pattern = r\"\\b(?=[mdclxviι])m{0,4}(cm|cd|d?c{0,3})(xc|xl|l?x{0,3})([iι]x|[iι]v|v?[iι]{0,3})\\b\\.?\"\n",
    "    # text =  re.sub(pattern, ' ', text.lower())\n",
    "\n",
    "    text = re.sub(r\"[^a-zA-Z?.!,¿]+\", \" \", text) # replacing everything with space except (a-z, A-Z, \".\", \"?\", \"!\", \",\")\n",
    "\n",
    "    text = re.sub(r\"http\\S+\", \"\",text) #Removing URLs \n",
    "    #text = re.sub(r\"http\", \"\",text)\n",
    "    \n",
    "    html=re.compile(r'<.*?>') \n",
    "    \n",
    "    text = html.sub(r'',text) #Removing html tags\n",
    "        \n",
    "    text = [word.lower() for word in text.split() if word.lower() not in sw]\n",
    "    \n",
    "    text = [lemmatizer.lemmatize(word) for word in text]\n",
    "    \n",
    "    text = \" \".join(text) #removing stopwords\n",
    "    \n",
    "    emoji_pattern = re.compile(\"[\"\n",
    "                           u\"\\U0001F600-\\U0001F64F\"  # emoticons\n",
    "                           u\"\\U0001F300-\\U0001F5FF\"  # symbols & pictographs\n",
    "                           u\"\\U0001F680-\\U0001F6FF\"  # transport & map symbols\n",
    "                           u\"\\U0001F1E0-\\U0001F1FF\"  # flags (iOS)\n",
    "                           u\"\\U00002702-\\U000027B0\"\n",
    "                           u\"\\U000024C2-\\U0001F251\"\n",
    "                           \"]+\", flags=re.UNICODE)\n",
    "    text = emoji_pattern.sub(r'', text) #Removing emojis\n",
    "    \n",
    "    return text\n",
    "\n",
    "with open('training.json', 'r') as file:\n",
    "  first_line = file.readline()\n",
    "  df = pd.read_json(file, lines=True)\n",
    "\n",
    "# remove heading 'map'\n",
    "df = df[df[\"heading\"] != \"map\"]\n",
    "\n",
    "df['heading'] = df['heading'].apply(lambda x: clean_text(x))\n",
    "\n",
    "df['sentence'] = df.apply(lambda row: f\"{row['section']} {row['heading']}\", axis=1)\n",
    "from sklearn.preprocessing import LabelEncoder\n",
    "\n",
    "label_encoder = LabelEncoder()\n",
    "df['label'] = label_encoder.fit_transform(df['category'])"
   ]
  },
  {
   "cell_type": "code",
   "execution_count": 5,
   "metadata": {},
   "outputs": [
    {
     "data": {
      "text/plain": [
       "array(['for-sale', 'housing', 'community', 'services'], dtype=object)"
      ]
     },
     "execution_count": 5,
     "metadata": {},
     "output_type": "execute_result"
    }
   ],
   "source": [
    "df['section'].unique()"
   ]
  },
  {
   "cell_type": "code",
   "execution_count": 242,
   "metadata": {},
   "outputs": [
    {
     "data": {
      "text/plain": [
       "(872, 6)"
      ]
     },
     "execution_count": 242,
     "metadata": {},
     "output_type": "execute_result"
    }
   ],
   "source": [
    "df_general  = df[df[\"category\"] == \"general\"]\n",
    "df_general.shape"
   ]
  },
  {
   "cell_type": "code",
   "execution_count": 244,
   "metadata": {},
   "outputs": [],
   "source": [
    "m = df.groupby(['category']).size()\n",
    "m = m.sort_values()"
   ]
  },
  {
   "cell_type": "code",
   "execution_count": 245,
   "metadata": {},
   "outputs": [],
   "source": [
    "n_samples = len(df_general.values)"
   ]
  },
  {
   "cell_type": "code",
   "execution_count": 246,
   "metadata": {},
   "outputs": [
    {
     "name": "stdout",
     "output_type": "stream",
     "text": [
      "13\n"
     ]
    }
   ],
   "source": [
    "catcat = []\n",
    "for i in range(len(m)):\n",
    "    if m[i] >= n_samples:\n",
    "        # print(mm)\n",
    "        catcat.append(m.index[i])\n",
    "\n",
    "print(len(catcat))"
   ]
  },
  {
   "cell_type": "code",
   "execution_count": 247,
   "metadata": {},
   "outputs": [],
   "source": [
    "df_1000_over = df.loc[df['category'].isin(catcat)]"
   ]
  },
  {
   "cell_type": "code",
   "execution_count": null,
   "metadata": {},
   "outputs": [],
   "source": [
    "#downsample\n",
    "from sklearn.utils import resample\n",
    "list_df_ds = []\n",
    "for cc in catcat:\n",
    "    df_downsample_ = resample(df[df['category']==cc],\n",
    "                replace=True,\n",
    "                n_samples=n_samples,\n",
    "                random_state=42)\n",
    "    list_df_ds.append(df_downsample_)\n",
    "\n",
    "# print(df_downsample.shape)\n",
    "cat = []\n",
    "for i in range(len(m)):\n",
    "    if m[i] < n_samples:\n",
    "        # print(m[i])\n",
    "        cat.append(m.index[i])\n",
    "\n",
    "print(cat)"
   ]
  },
  {
   "cell_type": "code",
   "execution_count": 233,
   "metadata": {},
   "outputs": [
    {
     "data": {
      "image/png": "[encoded data removed]",
      "text/plain": [
       "<Figure size 640x480 with 1 Axes>"
      ]
     },
     "metadata": {},
     "output_type": "display_data"
    }
   ],
   "source": [
    "import matplotlib.pyplot as plt\n",
    "import seaborn as sns\n",
    "\n",
    "num_colors = 16\n",
    "palette = sns.color_palette(\"coolwarm\", num_colors)\n",
    "\n",
    "sns.barplot(x=m.values, y=m.index, palette=palette, hue=m.index)\n",
    "plt.xlabel('count')\n",
    "plt.title('Categories number')\n",
    "plt.xticks(rotation=0)\n",
    "plt.show()"
   ]
  },
  {
   "cell_type": "code",
   "execution_count": 251,
   "metadata": {},
   "outputs": [],
   "source": [
    "df_1000_under = df.loc[df['category'].isin(cat)]"
   ]
  },
  {
   "cell_type": "code",
   "execution_count": 252,
   "metadata": {},
   "outputs": [
    {
     "data": {
      "text/plain": [
       "array(['housing', 'activities', 'artists'], dtype=object)"
      ]
     },
     "execution_count": 252,
     "metadata": {},
     "output_type": "execute_result"
    }
   ],
   "source": [
    "df_1000_under['category'].unique()"
   ]
  },
  {
   "cell_type": "code",
   "execution_count": 257,
   "metadata": {},
   "outputs": [],
   "source": [
    "df_ds = pd.concat(list_df_ds)"
   ]
  },
  {
   "cell_type": "code",
   "execution_count": 305,
   "metadata": {},
   "outputs": [
    {
     "data": {
      "text/plain": [
       "13"
      ]
     },
     "execution_count": 305,
     "metadata": {},
     "output_type": "execute_result"
    }
   ],
   "source": [
    "len(df_ds['category'].unique())"
   ]
  },
  {
   "cell_type": "code",
   "execution_count": 306,
   "metadata": {},
   "outputs": [
    {
     "data": {
      "image/png": "[encoded data removed]",
      "text/plain": [
       "<Figure size 640x480 with 1 Axes>"
      ]
     },
     "metadata": {},
     "output_type": "display_data"
    }
   ],
   "source": [
    "import matplotlib.pyplot as plt\n",
    "import seaborn as sns\n",
    "\n",
    "m = df_ds.groupby(['category']).size()\n",
    "m = m.sort_values()\n",
    "\n",
    "\n",
    "num_colors = 16\n",
    "palette = sns.color_palette(\"coolwarm\", num_colors)\n",
    "\n",
    "sns.barplot(x=m.values, y=m.index, palette=palette, hue=m.index)\n",
    "plt.xlabel('count')\n",
    "plt.title('Categories number')\n",
    "plt.xticks(rotation=0)\n",
    "plt.show()"
   ]
  },
  {
   "cell_type": "code",
   "execution_count": 307,
   "metadata": {},
   "outputs": [
    {
     "data": {
      "text/html": [
       "<div>\n",
       "<style scoped>\n",
       "    .dataframe tbody tr th:only-of-type {\n",
       "        vertical-align: middle;\n",
       "    }\n",
       "\n",
       "    .dataframe tbody tr th {\n",
       "        vertical-align: top;\n",
       "    }\n",
       "\n",
       "    .dataframe thead th {\n",
       "        text-align: right;\n",
       "    }\n",
       "</style>\n",
       "<table border=\"1\" class=\"dataframe\">\n",
       "  <thead>\n",
       "    <tr style=\"text-align: right;\">\n",
       "      <th></th>\n",
       "      <th>city</th>\n",
       "      <th>category</th>\n",
       "      <th>section</th>\n",
       "      <th>heading</th>\n",
       "      <th>sentence</th>\n",
       "      <th>label</th>\n",
       "    </tr>\n",
       "  </thead>\n",
       "  <tbody>\n",
       "    <tr>\n",
       "      <th>1563</th>\n",
       "      <td>newyork</td>\n",
       "      <td>housing</td>\n",
       "      <td>housing</td>\n",
       "      <td>th st east full size bdrm low fee avail</td>\n",
       "      <td>housing th st east full size bdrm low fee avail</td>\n",
       "      <td>8</td>\n",
       "    </tr>\n",
       "    <tr>\n",
       "      <th>1564</th>\n",
       "      <td>newyork</td>\n",
       "      <td>housing</td>\n",
       "      <td>housing</td>\n",
       "      <td>great share xl bed lot privacy hot loc low fee</td>\n",
       "      <td>housing great share xl bed lot privacy hot loc...</td>\n",
       "      <td>8</td>\n",
       "    </tr>\n",
       "    <tr>\n",
       "      <th>1565</th>\n",
       "      <td>newyork</td>\n",
       "      <td>housing</td>\n",
       "      <td>housing</td>\n",
       "      <td>e nd real br oct rd sizzling deal</td>\n",
       "      <td>housing e nd real br oct rd sizzling deal</td>\n",
       "      <td>8</td>\n",
       "    </tr>\n",
       "    <tr>\n",
       "      <th>1566</th>\n",
       "      <td>newyork</td>\n",
       "      <td>housing</td>\n",
       "      <td>housing</td>\n",
       "      <td>cute couple lg br pwar great value low fee</td>\n",
       "      <td>housing cute couple lg br pwar great value low...</td>\n",
       "      <td>8</td>\n",
       "    </tr>\n",
       "    <tr>\n",
       "      <th>1569</th>\n",
       "      <td>newyork</td>\n",
       "      <td>housing</td>\n",
       "      <td>housing</td>\n",
       "      <td>amazing br prime west village location</td>\n",
       "      <td>housing amazing br prime west village location</td>\n",
       "      <td>8</td>\n",
       "    </tr>\n",
       "  </tbody>\n",
       "</table>\n",
       "</div>"
      ],
      "text/plain": [
       "         city category  section  \\\n",
       "1563  newyork  housing  housing   \n",
       "1564  newyork  housing  housing   \n",
       "1565  newyork  housing  housing   \n",
       "1566  newyork  housing  housing   \n",
       "1569  newyork  housing  housing   \n",
       "\n",
       "                                             heading  \\\n",
       "1563         th st east full size bdrm low fee avail   \n",
       "1564  great share xl bed lot privacy hot loc low fee   \n",
       "1565               e nd real br oct rd sizzling deal   \n",
       "1566      cute couple lg br pwar great value low fee   \n",
       "1569          amazing br prime west village location   \n",
       "\n",
       "                                               sentence  label  \n",
       "1563    housing th st east full size bdrm low fee avail      8  \n",
       "1564  housing great share xl bed lot privacy hot loc...      8  \n",
       "1565          housing e nd real br oct rd sizzling deal      8  \n",
       "1566  housing cute couple lg br pwar great value low...      8  \n",
       "1569     housing amazing br prime west village location      8  "
      ]
     },
     "execution_count": 307,
     "metadata": {},
     "output_type": "execute_result"
    }
   ],
   "source": [
    "df_1000_under.head()"
   ]
  },
  {
   "cell_type": "code",
   "execution_count": 258,
   "metadata": {},
   "outputs": [],
   "source": [
    "df = pd.concat([df_1000_under, df_ds])"
   ]
  },
  {
   "cell_type": "code",
   "execution_count": 259,
   "metadata": {},
   "outputs": [
    {
     "data": {
      "image/png": "[encoded data removed]",
      "text/plain": [
       "<Figure size 640x480 with 1 Axes>"
      ]
     },
     "metadata": {},
     "output_type": "display_data"
    }
   ],
   "source": [
    "import matplotlib.pyplot as plt\n",
    "import seaborn as sns\n",
    "\n",
    "m = df.groupby(['category']).size()\n",
    "m = m.sort_values()\n",
    "\n",
    "num_colors = 16\n",
    "palette = sns.color_palette(\"coolwarm\", num_colors)\n",
    "\n",
    "sns.barplot(x=m.values, y=m.index, palette=palette, hue=m.index)\n",
    "plt.xlabel('count')\n",
    "plt.title('Categories number')\n",
    "plt.xticks(rotation=0)\n",
    "plt.show()"
   ]
  },
  {
   "cell_type": "code",
   "execution_count": 262,
   "metadata": {},
   "outputs": [],
   "source": [
    "new_tokens = []\n",
    "for sec in df['city'].values:\n",
    "  new_tokens.append(sec)\n",
    "for sec in df['section'].values:\n",
    "  new_tokens.append(sec)\n",
    "  \n",
    "id_list = [int(x) for x in sorted(df['label'].unique())]\n",
    "id2label = dict(zip(id_list, sorted(df['category'].unique())))\n",
    "label2id = dict(zip(sorted(df['category'].unique()), id_list))\n",
    "\n",
    "df = df[['sentence', 'label']]"
   ]
  },
  {
   "cell_type": "code",
   "execution_count": 3,
   "metadata": {},
   "outputs": [
    {
     "ename": "ModuleNotFoundError",
     "evalue": "No module named 'datasets'",
     "output_type": "error",
     "traceback": [
      "\u001b[1;31m---------------------------------------------------------------------------\u001b[0m",
      "\u001b[1;31mModuleNotFoundError\u001b[0m                       Traceback (most recent call last)",
      "Cell \u001b[1;32mIn[3], line 1\u001b[0m\n\u001b[1;32m----> 1\u001b[0m \u001b[38;5;28;01mfrom\u001b[39;00m \u001b[38;5;21;01mdatasets\u001b[39;00m \u001b[38;5;28;01mimport\u001b[39;00m Dataset\n\u001b[0;32m      3\u001b[0m raw_dataset \u001b[38;5;241m=\u001b[39m Dataset\u001b[38;5;241m.\u001b[39mfrom_pandas(df, preserve_index\u001b[38;5;241m=\u001b[39m\u001b[38;5;28;01mTrue\u001b[39;00m)\n\u001b[0;32m      5\u001b[0m \u001b[38;5;28;01mfrom\u001b[39;00m \u001b[38;5;21;01mtransformers\u001b[39;00m \u001b[38;5;28;01mimport\u001b[39;00m AutoTokenizer\n",
      "\u001b[1;31mModuleNotFoundError\u001b[0m: No module named 'datasets'"
     ]
    }
   ],
   "source": [
    "from datasets import Dataset\n",
    "\n",
    "raw_dataset = Dataset.from_pandas(df, preserve_index=True)\n",
    "\n",
    "from transformers import AutoTokenizer\n",
    "checkpoint = 'distilbert/distilbert-base-uncased'\n",
    "tokenizer = AutoTokenizer.from_pretrained(checkpoint)\n",
    "\n",
    "new_tokens = set(new_tokens) - set(tokenizer.vocab.keys())\n",
    "tokenizer.add_tokens(list(new_tokens))\n",
    "\n",
    "def tokenize_fn(batch):\n",
    "  return tokenizer(batch['sentence'], truncation = True)\n",
    "\n",
    "# raw_dataset = raw_dataset.class_encode_column(\"label\")\n",
    "split = raw_dataset.train_test_split(test_size=0.3, seed=42)\n",
    "tokenized_dataset = split.map(tokenize_fn, batched = True)\n",
    "\n",
    "# tokenized_dataset.remove_columns([\"__index_level_0__\"])\n",
    "\n",
    "from transformers import AutoModelForSequenceClassification, Trainer, TrainingArguments\n",
    "\n",
    "# from torchinfo import summary\n",
    "# summary(model)"
   ]
  },
  {
   "cell_type": "code",
   "execution_count": 269,
   "metadata": {},
   "outputs": [
    {
     "name": "stderr",
     "output_type": "stream",
     "text": [
      "Some weights of DistilBertForSequenceClassification were not initialized from the model checkpoint at distilbert/distilbert-base-uncased and are newly initialized: ['classifier.bias', 'classifier.weight', 'pre_classifier.bias', 'pre_classifier.weight']\n",
      "You should probably TRAIN this model on a down-stream task to be able to use it for predictions and inference.\n",
      "Detected kernel version 3.10.0, which is below the recommended minimum of 5.5.0; this can cause the process to hang. It is recommended to upgrade the kernel to the minimum version or higher.\n"
     ]
    },
    {
     "data": {
      "text/html": [
       "\n",
       "    <div>\n",
       "      \n",
       "      <progress value='5390' max='5390' style='width:300px; height:20px; vertical-align: middle;'></progress>\n",
       "      [5390/5390 12:39, Epoch 10/10]\n",
       "    </div>\n",
       "    <table border=\"1\" class=\"dataframe\">\n",
       "  <thead>\n",
       " <tr style=\"text-align: left;\">\n",
       "      <th>Epoch</th>\n",
       "      <th>Training Loss</th>\n",
       "      <th>Validation Loss</th>\n",
       "      <th>Accuracy</th>\n",
       "      <th>F1 Score</th>\n",
       "    </tr>\n",
       "  </thead>\n",
       "  <tbody>\n",
       "    <tr>\n",
       "      <td>1</td>\n",
       "      <td>1.461000</td>\n",
       "      <td>0.668722</td>\n",
       "      <td>0.796046</td>\n",
       "      <td>0.796046</td>\n",
       "    </tr>\n",
       "    <tr>\n",
       "      <td>2</td>\n",
       "      <td>0.591400</td>\n",
       "      <td>0.461066</td>\n",
       "      <td>0.845612</td>\n",
       "      <td>0.845612</td>\n",
       "    </tr>\n",
       "    <tr>\n",
       "      <td>3</td>\n",
       "      <td>0.419400</td>\n",
       "      <td>0.390623</td>\n",
       "      <td>0.868093</td>\n",
       "      <td>0.868093</td>\n",
       "    </tr>\n",
       "    <tr>\n",
       "      <td>4</td>\n",
       "      <td>0.305500</td>\n",
       "      <td>0.363257</td>\n",
       "      <td>0.876490</td>\n",
       "      <td>0.876490</td>\n",
       "    </tr>\n",
       "    <tr>\n",
       "      <td>5</td>\n",
       "      <td>0.233600</td>\n",
       "      <td>0.368018</td>\n",
       "      <td>0.886511</td>\n",
       "      <td>0.886511</td>\n",
       "    </tr>\n",
       "    <tr>\n",
       "      <td>6</td>\n",
       "      <td>0.181000</td>\n",
       "      <td>0.352592</td>\n",
       "      <td>0.897616</td>\n",
       "      <td>0.897616</td>\n",
       "    </tr>\n",
       "    <tr>\n",
       "      <td>7</td>\n",
       "      <td>0.151000</td>\n",
       "      <td>0.365412</td>\n",
       "      <td>0.900596</td>\n",
       "      <td>0.900596</td>\n",
       "    </tr>\n",
       "    <tr>\n",
       "      <td>8</td>\n",
       "      <td>0.123100</td>\n",
       "      <td>0.373234</td>\n",
       "      <td>0.904388</td>\n",
       "      <td>0.904388</td>\n",
       "    </tr>\n",
       "    <tr>\n",
       "      <td>9</td>\n",
       "      <td>0.114100</td>\n",
       "      <td>0.379692</td>\n",
       "      <td>0.907638</td>\n",
       "      <td>0.907638</td>\n",
       "    </tr>\n",
       "    <tr>\n",
       "      <td>10</td>\n",
       "      <td>0.088700</td>\n",
       "      <td>0.384784</td>\n",
       "      <td>0.907367</td>\n",
       "      <td>0.907367</td>\n",
       "    </tr>\n",
       "  </tbody>\n",
       "</table><p>"
      ],
      "text/plain": [
       "<IPython.core.display.HTML object>"
      ]
     },
     "metadata": {},
     "output_type": "display_data"
    },
    {
     "data": {
      "text/plain": [
       "TrainOutput(global_step=5390, training_loss=0.346613107231862, metrics={'train_runtime': 760.3079, 'train_samples_per_second': 113.283, 'train_steps_per_second': 7.089, 'total_flos': 363416186631360.0, 'train_loss': 0.346613107231862, 'epoch': 10.0})"
      ]
     },
     "execution_count": 269,
     "metadata": {},
     "output_type": "execute_result"
    }
   ],
   "source": [
    "model = AutoModelForSequenceClassification.from_pretrained(\n",
    "  checkpoint, num_labels = len(df['label'].unique()), id2label=id2label, label2id=label2id)\n",
    "\n",
    "model.resize_token_embeddings(len(tokenizer))\n",
    "\n",
    "training_args = TrainingArguments(output_dir='training_dir',\n",
    "                                  overwrite_output_dir=True,\n",
    "                                  num_train_epochs=10.0,\n",
    "                                  learning_rate=1e-5,\n",
    "                                  per_device_train_batch_size=8,\n",
    "                                  per_device_eval_batch_size=8,\n",
    "                                  dataloader_num_workers=1,\n",
    "                                  dataloader_prefetch_factor=2,\n",
    "                                  # weight_decay=0.01,\n",
    "                                  # logging_steps=100,\n",
    "                                  disable_tqdm=False,\n",
    "                                  evaluation_strategy=\"epoch\",\n",
    "                                  save_strategy=\"epoch\",\n",
    "                                  load_best_model_at_end=True,\n",
    "                                    # log_level=\"error\"\n",
    "                                  )\n",
    "\n",
    "def compute_metrics(logits_and_labels):\n",
    "  logits, labels = logits_and_labels\n",
    "  predictions = np.argmax(logits, axis=-1)\n",
    "  acc = np.mean(predictions == labels)\n",
    "  f1 = f1_score(labels, predictions, average = 'micro')\n",
    "  return {'accuracy': acc, 'f1_score': f1}\n",
    "\n",
    "trainer = Trainer(model,\n",
    "                  training_args,\n",
    "                  train_dataset = tokenized_dataset[\"train\"],\n",
    "                  eval_dataset = tokenized_dataset[\"test\"],\n",
    "                  tokenizer=tokenizer,\n",
    "                  compute_metrics=compute_metrics)\n",
    "trainer.train()\n",
    "# trainer.save_model(\"saved_model\")"
   ]
  },
  {
   "cell_type": "code",
   "execution_count": 270,
   "metadata": {},
   "outputs": [],
   "source": [
    "trainer.save_model(\"save_model_4\")"
   ]
  },
  {
   "cell_type": "code",
   "execution_count": 2,
   "metadata": {},
   "outputs": [
    {
     "name": "stderr",
     "output_type": "stream",
     "text": [
      "d:\\Anaconda3\\envs\\gpt\\lib\\site-packages\\tqdm\\auto.py:21: TqdmWarning: IProgress not found. Please update jupyter and ipywidgets. See https://ipywidgets.readthedocs.io/en/stable/user_install.html\n",
      "  from .autonotebook import tqdm as notebook_tqdm\n",
      "Special tokens have been added in the vocabulary, make sure the associated word embeddings are fine-tuned or trained.\n"
     ]
    }
   ],
   "source": [
    "from transformers import pipeline\n",
    "\n",
    "model_load = pipeline(\"text-classification\", model='saved_model')"
   ]
  },
  {
   "cell_type": "code",
   "execution_count": 285,
   "metadata": {},
   "outputs": [],
   "source": [
    "y_pred = model_load.predict(tokenized_dataset['test']['sentence'])"
   ]
  },
  {
   "cell_type": "code",
   "execution_count": 81,
   "metadata": {},
   "outputs": [
    {
     "data": {
      "text/plain": [
       "{'activities': 0,\n",
       " 'appliances': 1,\n",
       " 'artists': 2,\n",
       " 'automotive': 3,\n",
       " 'cell-phones': 4,\n",
       " 'childcare': 5,\n",
       " 'general': 6,\n",
       " 'household-services': 7,\n",
       " 'housing': 8,\n",
       " 'photography': 9,\n",
       " 'real-estate': 10,\n",
       " 'shared': 11,\n",
       " 'temporary': 12,\n",
       " 'therapeutic': 13,\n",
       " 'video-games': 14,\n",
       " 'wanted-housing': 15}"
      ]
     },
     "execution_count": 81,
     "metadata": {},
     "output_type": "execute_result"
    }
   ],
   "source": [
    "label2id"
   ]
  },
  {
   "cell_type": "code",
   "execution_count": 223,
   "metadata": {},
   "outputs": [
    {
     "data": {
      "text/plain": [
       "[{'label': 'video-games', 'score': 0.990825355052948}]"
      ]
     },
     "execution_count": 223,
     "metadata": {},
     "output_type": "execute_result"
    }
   ],
   "source": [
    "model_load.predict('singapore for-sale playstation , price reduced')"
   ]
  },
  {
   "cell_type": "code",
   "execution_count": 293,
   "metadata": {},
   "outputs": [],
   "source": [
    "y_pred_id = []\n",
    "\n",
    "for pred in y_pred:\n",
    "    y_pred_id.append(label2id[pred['label']])"
   ]
  },
  {
   "cell_type": "code",
   "execution_count": 294,
   "metadata": {},
   "outputs": [
    {
     "name": "stdout",
     "output_type": "stream",
     "text": [
      "              precision    recall  f1-score   support\n",
      "\n",
      "           0       0.76      0.73      0.74        91\n",
      "           1       0.98      0.94      0.96       268\n",
      "           2       0.83      0.82      0.82       116\n",
      "           3       0.97      0.93      0.95       267\n",
      "           4       0.97      0.98      0.98       271\n",
      "           5       0.98      0.92      0.95       283\n",
      "           6       0.79      0.86      0.83       252\n",
      "           7       0.85      0.89      0.87       255\n",
      "           8       0.78      0.56      0.66        71\n",
      "           9       0.92      0.97      0.94       253\n",
      "          10       0.88      0.84      0.86       254\n",
      "          11       0.80      0.84      0.82       256\n",
      "          12       0.80      0.81      0.81       275\n",
      "          13       0.95      0.98      0.97       270\n",
      "          14       0.96      0.95      0.96       243\n",
      "          15       0.91      0.93      0.92       267\n",
      "\n",
      "    accuracy                           0.90      3692\n",
      "   macro avg       0.88      0.87      0.88      3692\n",
      "weighted avg       0.90      0.90      0.90      3692\n",
      "\n"
     ]
    }
   ],
   "source": [
    "from sklearn.metrics import confusion_matrix,classification_report\n",
    "\n",
    "print(classification_report(y_true=tokenized_dataset['test']['label'], y_pred=y_pred_id))"
   ]
  }
 ],
 "metadata": {
  "kernelspec": {
   "display_name": "gpt",
   "language": "python",
   "name": "python3"
  },
  "language_info": {
   "codemirror_mode": {
    "name": "ipython",
    "version": 3
   },
   "file_extension": ".py",
   "mimetype": "text/x-python",
   "name": "python",
   "nbconvert_exporter": "python",
   "pygments_lexer": "ipython3",
   "version": "3.9.16"
  }
 },
 "nbformat": 4,
 "nbformat_minor": 2
}
